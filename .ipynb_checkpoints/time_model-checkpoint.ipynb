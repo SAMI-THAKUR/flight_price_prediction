{
 "cells": [
  {
   "cell_type": "code",
   "execution_count": 1,
   "id": "154953c7-549f-4167-821f-b81dddb2ebbf",
   "metadata": {
    "execution": {
     "iopub.execute_input": "2024-09-17T10:54:59.686442Z",
     "iopub.status.busy": "2024-09-17T10:54:59.685446Z",
     "iopub.status.idle": "2024-09-17T10:55:06.982006Z",
     "shell.execute_reply": "2024-09-17T10:55:06.981077Z",
     "shell.execute_reply.started": "2024-09-17T10:54:59.686442Z"
    }
   },
   "outputs": [
    {
     "name": "stdout",
     "output_type": "stream",
     "text": [
      "WARNING:tensorflow:From C:\\Users\\SAMI\\AppData\\Local\\Programs\\Python\\Python310\\lib\\site-packages\\keras\\src\\losses.py:2976: The name tf.losses.sparse_softmax_cross_entropy is deprecated. Please use tf.compat.v1.losses.sparse_softmax_cross_entropy instead.\n",
      "\n"
     ]
    }
   ],
   "source": [
    "import tensorflow as tf\n",
    "import pandas as pd\n",
    "import numpy as np\n",
    "import matplotlib.pyplot as plt\n",
    "import seaborn as sns"
   ]
  },
  {
   "cell_type": "code",
   "execution_count": 2,
   "id": "8f553803-470e-4fa6-9c4f-dc2488b46f2f",
   "metadata": {
    "execution": {
     "iopub.execute_input": "2024-09-17T10:55:13.805775Z",
     "iopub.status.busy": "2024-09-17T10:55:13.804779Z",
     "iopub.status.idle": "2024-09-17T10:55:14.402414Z",
     "shell.execute_reply": "2024-09-17T10:55:14.401408Z",
     "shell.execute_reply.started": "2024-09-17T10:55:13.805775Z"
    }
   },
   "outputs": [],
   "source": [
    "data = pd.read_csv('flight_data_final.csv')"
   ]
  },
  {
   "cell_type": "code",
   "execution_count": 3,
   "id": "50f8c37d-2c30-4d9c-999f-20e784d7abcc",
   "metadata": {
    "execution": {
     "iopub.execute_input": "2024-09-17T10:56:02.959082Z",
     "iopub.status.busy": "2024-09-17T10:56:02.959082Z",
     "iopub.status.idle": "2024-09-17T10:56:02.978030Z",
     "shell.execute_reply": "2024-09-17T10:56:02.977034Z",
     "shell.execute_reply.started": "2024-09-17T10:56:02.959082Z"
    }
   },
   "outputs": [],
   "source": [
    "X = data.drop(['price','time_taken'], axis=1)"
   ]
  },
  {
   "cell_type": "code",
   "execution_count": 4,
   "id": "0eac4eb6-e3a5-491f-9ad4-2e257932c810",
   "metadata": {
    "execution": {
     "iopub.execute_input": "2024-09-17T10:56:11.308600Z",
     "iopub.status.busy": "2024-09-17T10:56:11.307605Z",
     "iopub.status.idle": "2024-09-17T10:56:11.323560Z",
     "shell.execute_reply": "2024-09-17T10:56:11.322595Z",
     "shell.execute_reply.started": "2024-09-17T10:56:11.308600Z"
    }
   },
   "outputs": [],
   "source": [
    "y = data['time_taken']"
   ]
  },
  {
   "cell_type": "code",
   "execution_count": 5,
   "id": "79e7bc50-f874-4f65-a348-cef53ca0c30b",
   "metadata": {
    "execution": {
     "iopub.execute_input": "2024-09-17T10:56:20.558711Z",
     "iopub.status.busy": "2024-09-17T10:56:20.558711Z",
     "iopub.status.idle": "2024-09-17T10:56:20.770405Z",
     "shell.execute_reply": "2024-09-17T10:56:20.769447Z",
     "shell.execute_reply.started": "2024-09-17T10:56:20.558711Z"
    }
   },
   "outputs": [],
   "source": [
    "from sklearn.model_selection import train_test_split\n",
    "X_train, X_test, y_train, y_test = train_test_split(X, y, test_size=0.33, random_state=42)"
   ]
  },
  {
   "cell_type": "code",
   "execution_count": 6,
   "id": "ca96b1c7-66c8-4e73-9dc5-50c4aebc77e3",
   "metadata": {
    "execution": {
     "iopub.execute_input": "2024-09-17T10:56:28.420765Z",
     "iopub.status.busy": "2024-09-17T10:56:28.419768Z",
     "iopub.status.idle": "2024-09-17T10:56:28.440712Z",
     "shell.execute_reply": "2024-09-17T10:56:28.439714Z",
     "shell.execute_reply.started": "2024-09-17T10:56:28.420765Z"
    }
   },
   "outputs": [],
   "source": [
    "X_train = X_train.to_numpy(dtype='float32')\n",
    "X_test = X_test.to_numpy(dtype='float32')"
   ]
  },
  {
   "cell_type": "code",
   "execution_count": 7,
   "id": "7da9a322-273a-4091-a78f-132a60c1cf12",
   "metadata": {
    "execution": {
     "iopub.execute_input": "2024-09-17T10:56:36.341356Z",
     "iopub.status.busy": "2024-09-17T10:56:36.341356Z",
     "iopub.status.idle": "2024-09-17T10:56:36.799890Z",
     "shell.execute_reply": "2024-09-17T10:56:36.798885Z",
     "shell.execute_reply.started": "2024-09-17T10:56:36.341356Z"
    }
   },
   "outputs": [
    {
     "name": "stdout",
     "output_type": "stream",
     "text": [
      "WARNING:tensorflow:From C:\\Users\\SAMI\\AppData\\Local\\Programs\\Python\\Python310\\lib\\site-packages\\keras\\src\\backend.py:1398: The name tf.executing_eagerly_outside_functions is deprecated. Please use tf.compat.v1.executing_eagerly_outside_functions instead.\n",
      "\n"
     ]
    }
   ],
   "source": [
    "model = tf.keras.models.Sequential([\n",
    "    tf.keras.layers.Input(shape=(X_train.shape[1],)),\n",
    "    tf.keras.layers.Dense(1)\n",
    "])\n",
    "\n",
    "# Compile the model\n",
    "model.compile(\n",
    "    optimizer=tf.keras.optimizers.SGD(learning_rate=0.0001),\n",
    "    loss=tf.keras.losses.MeanSquaredError(), \n",
    "    metrics=['mae']\n",
    ")"
   ]
  },
  {
   "cell_type": "code",
   "execution_count": 8,
   "id": "0d35cd70-72e4-4d5c-b0cd-e4e2b6055cb2",
   "metadata": {
    "execution": {
     "iopub.execute_input": "2024-09-17T10:56:46.587167Z",
     "iopub.status.busy": "2024-09-17T10:56:46.587167Z",
     "iopub.status.idle": "2024-09-17T10:58:56.609057Z",
     "shell.execute_reply": "2024-09-17T10:58:56.608055Z",
     "shell.execute_reply.started": "2024-09-17T10:56:46.587167Z"
    }
   },
   "outputs": [
    {
     "name": "stdout",
     "output_type": "stream",
     "text": [
      "Epoch 1/20\n",
      "WARNING:tensorflow:From C:\\Users\\SAMI\\AppData\\Local\\Programs\\Python\\Python310\\lib\\site-packages\\keras\\src\\utils\\tf_utils.py:492: The name tf.ragged.RaggedTensorValue is deprecated. Please use tf.compat.v1.ragged.RaggedTensorValue instead.\n",
      "\n",
      "WARNING:tensorflow:From C:\\Users\\SAMI\\AppData\\Local\\Programs\\Python\\Python310\\lib\\site-packages\\keras\\src\\engine\\base_layer_utils.py:384: The name tf.executing_eagerly_outside_functions is deprecated. Please use tf.compat.v1.executing_eagerly_outside_functions instead.\n",
      "\n",
      "5752/5752 [==============================] - 7s 1ms/step - loss: 64.2407 - mae: 6.2072 - val_loss: 47.7383 - val_mae: 5.3087\n",
      "Epoch 2/20\n",
      "5752/5752 [==============================] - 6s 1ms/step - loss: 41.5290 - mae: 4.9841 - val_loss: 37.3869 - val_mae: 4.7682\n",
      "Epoch 3/20\n",
      "5752/5752 [==============================] - 6s 1ms/step - loss: 35.3357 - mae: 4.5881 - val_loss: 33.9972 - val_mae: 4.5555\n",
      "Epoch 4/20\n",
      "5752/5752 [==============================] - 6s 1ms/step - loss: 32.9386 - mae: 4.4168 - val_loss: 32.3340 - val_mae: 4.3192\n",
      "Epoch 5/20\n",
      "5752/5752 [==============================] - 6s 1ms/step - loss: 31.7282 - mae: 4.3287 - val_loss: 31.3658 - val_mae: 4.2843\n",
      "Epoch 6/20\n",
      "5752/5752 [==============================] - 6s 1ms/step - loss: 30.9702 - mae: 4.2791 - val_loss: 31.0454 - val_mae: 4.3615\n",
      "Epoch 7/20\n",
      "5752/5752 [==============================] - 6s 1ms/step - loss: 30.4625 - mae: 4.2464 - val_loss: 30.6520 - val_mae: 4.3377\n",
      "Epoch 8/20\n",
      "5752/5752 [==============================] - 6s 1ms/step - loss: 30.1024 - mae: 4.2260 - val_loss: 30.2429 - val_mae: 4.2940\n",
      "Epoch 9/20\n",
      "5752/5752 [==============================] - 6s 1ms/step - loss: 29.8481 - mae: 4.2119 - val_loss: 29.9814 - val_mae: 4.2719\n",
      "Epoch 10/20\n",
      "5752/5752 [==============================] - 6s 1ms/step - loss: 29.6330 - mae: 4.2000 - val_loss: 29.8928 - val_mae: 4.1457\n",
      "Epoch 11/20\n",
      "5752/5752 [==============================] - 6s 1ms/step - loss: 29.4755 - mae: 4.1925 - val_loss: 29.5129 - val_mae: 4.1861\n",
      "Epoch 12/20\n",
      "5752/5752 [==============================] - 7s 1ms/step - loss: 29.3478 - mae: 4.1859 - val_loss: 29.5651 - val_mae: 4.2523\n",
      "Epoch 13/20\n",
      "5752/5752 [==============================] - 7s 1ms/step - loss: 29.2476 - mae: 4.1819 - val_loss: 29.3295 - val_mae: 4.1996\n",
      "Epoch 14/20\n",
      "5752/5752 [==============================] - 7s 1ms/step - loss: 29.1622 - mae: 4.1787 - val_loss: 29.2373 - val_mae: 4.1755\n",
      "Epoch 15/20\n",
      "5752/5752 [==============================] - 6s 1ms/step - loss: 29.0906 - mae: 4.1757 - val_loss: 29.1949 - val_mae: 4.1969\n",
      "Epoch 16/20\n",
      "5752/5752 [==============================] - 7s 1ms/step - loss: 29.0272 - mae: 4.1733 - val_loss: 29.1754 - val_mae: 4.1482\n",
      "Epoch 17/20\n",
      "5752/5752 [==============================] - 7s 1ms/step - loss: 28.9737 - mae: 4.1718 - val_loss: 29.0750 - val_mae: 4.1787\n",
      "Epoch 18/20\n",
      "5752/5752 [==============================] - 7s 1ms/step - loss: 28.9335 - mae: 4.1702 - val_loss: 29.0492 - val_mae: 4.1896\n",
      "Epoch 19/20\n",
      "5752/5752 [==============================] - 7s 1ms/step - loss: 28.9026 - mae: 4.1697 - val_loss: 29.3929 - val_mae: 4.2839\n",
      "Epoch 20/20\n",
      "5752/5752 [==============================] - 7s 1ms/step - loss: 28.8559 - mae: 4.1670 - val_loss: 29.3729 - val_mae: 4.1247\n"
     ]
    },
    {
     "data": {
      "text/plain": [
       "<keras.src.callbacks.History at 0x1cb3179bc70>"
      ]
     },
     "execution_count": 8,
     "metadata": {},
     "output_type": "execute_result"
    }
   ],
   "source": [
    "model.fit(X_train,y_train, epochs=20 , validation_data=(X_test,y_test))"
   ]
  },
  {
   "cell_type": "code",
   "execution_count": 9,
   "id": "60e2a39c-5ab4-4502-9bb2-79ae48110b93",
   "metadata": {
    "execution": {
     "iopub.execute_input": "2024-09-17T10:59:00.220669Z",
     "iopub.status.busy": "2024-09-17T10:59:00.220669Z",
     "iopub.status.idle": "2024-09-17T10:59:00.487035Z",
     "shell.execute_reply": "2024-09-17T10:59:00.485038Z",
     "shell.execute_reply.started": "2024-09-17T10:59:00.220669Z"
    }
   },
   "outputs": [],
   "source": [
    "from sklearn.ensemble import RandomForestRegressor\n",
    "from sklearn.model_selection import GridSearchCV"
   ]
  },
  {
   "cell_type": "code",
   "execution_count": 10,
   "id": "02144da5-8248-465c-b9af-4911de62aed6",
   "metadata": {
    "execution": {
     "iopub.execute_input": "2024-09-17T10:59:06.994567Z",
     "iopub.status.busy": "2024-09-17T10:59:06.993565Z",
     "iopub.status.idle": "2024-09-17T10:59:07.008560Z",
     "shell.execute_reply": "2024-09-17T10:59:07.008560Z",
     "shell.execute_reply.started": "2024-09-17T10:59:06.994567Z"
    }
   },
   "outputs": [],
   "source": [
    "param_grid = {'n_estimators':[5,50,64,100] , \"max_features\": [2,3,4]}"
   ]
  },
  {
   "cell_type": "code",
   "execution_count": 11,
   "id": "0d8394dc-2fdd-4b86-a1b5-b2f1eb6b3a3a",
   "metadata": {
    "execution": {
     "iopub.execute_input": "2024-09-17T10:59:16.535388Z",
     "iopub.status.busy": "2024-09-17T10:59:16.534393Z",
     "iopub.status.idle": "2024-09-17T10:59:16.543368Z",
     "shell.execute_reply": "2024-09-17T10:59:16.542402Z",
     "shell.execute_reply.started": "2024-09-17T10:59:16.535388Z"
    }
   },
   "outputs": [],
   "source": [
    "rf = RandomForestRegressor()"
   ]
  },
  {
   "cell_type": "code",
   "execution_count": 12,
   "id": "7d1755d4-4c68-4678-9002-6f3e2b277385",
   "metadata": {
    "execution": {
     "iopub.execute_input": "2024-09-17T10:59:27.643773Z",
     "iopub.status.busy": "2024-09-17T10:59:27.642775Z",
     "iopub.status.idle": "2024-09-17T10:59:27.657767Z",
     "shell.execute_reply": "2024-09-17T10:59:27.656734Z",
     "shell.execute_reply.started": "2024-09-17T10:59:27.643773Z"
    }
   },
   "outputs": [],
   "source": [
    "grid  = GridSearchCV(rf,param_grid , cv=5)"
   ]
  },
  {
   "cell_type": "code",
   "execution_count": null,
   "id": "422cceee-c1c4-465d-bda3-01f37194ee33",
   "metadata": {
    "execution": {
     "iopub.execute_input": "2024-09-17T10:59:33.929447Z",
     "iopub.status.busy": "2024-09-17T10:59:33.929447Z"
    }
   },
   "outputs": [],
   "source": [
    "grid.fit(X_train,y_train)"
   ]
  },
  {
   "cell_type": "code",
   "execution_count": null,
   "id": "0db813e8-854b-46fd-a7fa-ef0afc7ba390",
   "metadata": {},
   "outputs": [],
   "source": []
  }
 ],
 "metadata": {
  "kernelspec": {
   "display_name": "Python 3 (ipykernel)",
   "language": "python",
   "name": "python3"
  },
  "language_info": {
   "codemirror_mode": {
    "name": "ipython",
    "version": 3
   },
   "file_extension": ".py",
   "mimetype": "text/x-python",
   "name": "python",
   "nbconvert_exporter": "python",
   "pygments_lexer": "ipython3",
   "version": "3.10.0"
  }
 },
 "nbformat": 4,
 "nbformat_minor": 5
}
